{
 "cells": [
  {
   "cell_type": "markdown",
   "metadata": {},
   "source": [
    "QUESTION1"
   ]
  },
  {
   "cell_type": "code",
   "execution_count": 1,
   "metadata": {},
   "outputs": [
    {
     "name": "stdout",
     "output_type": "stream",
     "text": [
      "[ 2  5  8 11 14 17 20 23 26 29 32 35 38 41 44 47]\n"
     ]
    }
   ],
   "source": [
    "import numpy as np\n",
    "arr = np.arange(2, 50, 3)\n",
    "print(arr)"
   ]
  },
  {
   "cell_type": "markdown",
   "metadata": {},
   "source": [
    "QUESTION2"
   ]
  },
  {
   "cell_type": "code",
   "execution_count": 2,
   "metadata": {},
   "outputs": [
    {
     "name": "stdout",
     "output_type": "stream",
     "text": [
      "\n",
      "Enter the value for lst_1 : 5\n",
      "\n",
      "Enter the value for lst_1 : 2\n",
      "\n",
      "Enter the value for lst_1 : 3\n",
      "\n",
      "Enter the value for lst_1 : 4\n",
      "\n",
      "Enter the value for lst_1 : 2\n",
      "\n",
      "Enter the value for lst_2 : 7\n",
      "\n",
      "Enter the value for lst_2 : 8\n",
      "\n",
      "Enter the value for lst_2 : 9\n",
      "\n",
      "Enter the value for lst_2 : 4\n",
      "\n",
      "Enter the value for lst_2 : 5\n",
      "\n",
      "Array value for concatenated arr : [5 2 3 4 2 7 8 9 4 5]\n",
      "\n",
      "Sorted Array for concatenated arr : [2 2 3 4 4 5 5 7 8 9]\n"
     ]
    }
   ],
   "source": [
    "# importing numpy with alias name\n",
    "import numpy as np\n",
    "\n",
    "# creating a 2 empty list:\n",
    "lst_1 = []\n",
    "lst_2 = []\n",
    "\n",
    "# getting values for lst_1 from user:\n",
    "for i in range(5):\n",
    "  x=int(input(\"\\nEnter the value for lst_1 : \"))\n",
    "  lst_1.append(x)\n",
    "\n",
    "# getting values for lst_2 from user:\n",
    "for i in range(5):\n",
    "  x=int(input(\"\\nEnter the value for lst_2 : \"))\n",
    "  lst_2.append(x)\n",
    "\n",
    "# converting list into array:\n",
    "arr_1 = np.array(lst_1)\n",
    "arr_2 = np.array(lst_2)\n",
    "\n",
    "# concatenating 2 array:\n",
    "arr = np.concatenate((arr_1, arr_2))\n",
    "print(\"\\nArray value for concatenated arr :\",arr)\n",
    "\n",
    "# sorting up concatenated array\n",
    "sortArr = np.sort(arr)\n",
    "print(\"\\nSorted Array for concatenated arr :\",sortArr)"
   ]
  },
  {
   "cell_type": "markdown",
   "metadata": {},
   "source": [
    "QUESTION3"
   ]
  },
  {
   "cell_type": "code",
   "execution_count": 3,
   "metadata": {},
   "outputs": [
    {
     "name": "stdout",
     "output_type": "stream",
     "text": [
      "\n",
      "Dimensions in array :  2\n",
      "\n",
      "Size of array :  6\n"
     ]
    }
   ],
   "source": [
    "import numpy as np\n",
    "arr = np.array([[4,2,2],[8,9,5]])\n",
    "print(\"\\nDimensions in array : \", arr.ndim)\n",
    "print(\"\\nSize of array : \", arr.size)"
   ]
  },
  {
   "cell_type": "markdown",
   "metadata": {},
   "source": [
    "QUESTION4"
   ]
  },
  {
   "cell_type": "code",
   "execution_count": 5,
   "metadata": {},
   "outputs": [
    {
     "name": "stdout",
     "output_type": "stream",
     "text": [
      "\n",
      "Shape of Array : (20,)\n",
      "\n",
      "Shape of 2d Array in row major : (1, 20)\n",
      "\n",
      "Shape of 2d Array in column major : (20, 1)\n"
     ]
    }
   ],
   "source": [
    "import numpy as np\n",
    "arr = np.arange(20)\n",
    "print(\"\\nShape of Array :\",arr.shape)\n",
    "row_arr = arr[np.newaxis, :]\n",
    "print(\"\\nShape of 2d Array in row major :\",row_arr.shape)\n",
    "col_arr = arr[:, np.newaxis]\n",
    "print(\"\\nShape of 2d Array in column major :\",col_arr.shape)"
   ]
  },
  {
   "cell_type": "markdown",
   "metadata": {},
   "source": [
    "QUESTION5"
   ]
  },
  {
   "cell_type": "code",
   "execution_count": 6,
   "metadata": {},
   "outputs": [
    {
     "name": "stdout",
     "output_type": "stream",
     "text": [
      "\n",
      "Horizontal Append : [36 25 16  9  4 81 64 49 36 25]\n",
      "\n",
      "Vertical Append : [[36 25 16  9  4]\n",
      " [81 64 49 36 25]]\n"
     ]
    }
   ],
   "source": [
    "import numpy as np\n",
    "arr_1 = np.square([6, 5, 4, 3, 2])\n",
    "arr_2 = np.square([9, 8, 7, 6, 5])\n",
    "print(\"\\nHorizontal Append :\", np.hstack((arr_1, arr_2)))\n",
    "print(\"\\nVertical Append :\", np.vstack((arr_1, arr_2)))"
   ]
  },
  {
   "cell_type": "markdown",
   "metadata": {},
   "source": [
    "QUESTION6"
   ]
  },
  {
   "cell_type": "code",
   "execution_count": 7,
   "metadata": {},
   "outputs": [
    {
     "name": "stdout",
     "output_type": "stream",
     "text": [
      "[[ 1  2]\n",
      " [ 2  1]\n",
      " [ 3  2]\n",
      " [ 4  1]\n",
      " [ 5  2]\n",
      " [ 6  2]\n",
      " [ 7  1]\n",
      " [ 8  2]\n",
      " [ 9  1]\n",
      " [10  1]\n",
      " [11  1]]\n"
     ]
    }
   ],
   "source": [
    "import numpy as np\n",
    "arr_1 = np.array([1, 5, 9, 10, 8, 1, 4, 2, 3, 3, 6, 6, 5, 7, 8, 11])\n",
    "unique, counts = np.unique(arr_1, return_counts=True)\n",
    "arr = np.asarray((unique, counts)).T\n",
    "print(arr)"
   ]
  },
  {
   "cell_type": "code",
   "execution_count": null,
   "metadata": {},
   "outputs": [],
   "source": []
  }
 ],
 "metadata": {
  "kernelspec": {
   "display_name": "Python 3",
   "language": "python",
   "name": "python3"
  },
  "language_info": {
   "codemirror_mode": {
    "name": "ipython",
    "version": 3
   },
   "file_extension": ".py",
   "mimetype": "text/x-python",
   "name": "python",
   "nbconvert_exporter": "python",
   "pygments_lexer": "ipython3",
   "version": "3.8.3"
  }
 },
 "nbformat": 4,
 "nbformat_minor": 4
}
